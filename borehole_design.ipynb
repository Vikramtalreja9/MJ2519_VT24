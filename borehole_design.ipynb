{
 "cells": [
  {
   "cell_type": "markdown",
   "metadata": {},
   "source": [
    "If you run the code on google colab uncomment you need to run the line below. If you launch the notebook from myBinder.org this will not be necessary."
   ]
  },
  {
   "cell_type": "code",
   "execution_count": null,
   "metadata": {},
   "outputs": [],
   "source": [
    "# !pip install pygfunction matplotlib numpy scipy SecondaryCoolantProps  CoolProp"
   ]
  },
  {
   "cell_type": "markdown",
   "metadata": {},
   "source": [
    "## Design of borehole heat exchanger\n",
    "\n",
    "You are given the task of designing a borehole field for a system that is expected to have a mean power exchanged with the ground over the year Q_average = - 6kW, a maximum monthly load of   Q_month = -16 kW and a 6 hour pulse of intensity  Q_6hours = -25 kW\n",
    "\n",
    "Select a borehole configuration (e.g. borehole positions and length) suitable to satisfy the condition of minimum fluid temperature not less than 0 C. \n",
    "The cost is increasing with the drilling length, therefore configurations with lower overall length are favorable."
   ]
  },
  {
   "cell_type": "code",
   "execution_count": 290,
   "metadata": {},
   "outputs": [],
   "source": [
    "Q_average = -6000\n",
    "Q_month = -16000 \n",
    "Q_6hours = -25000"
   ]
  },
  {
   "cell_type": "markdown",
   "metadata": {},
   "source": [
    "\n",
    "We will use the following data for thermophysical properties of the ground, geometrical configuration and flow condition."
   ]
  },
  {
   "cell_type": "code",
   "execution_count": 291,
   "metadata": {},
   "outputs": [],
   "source": [
    "# Base configuration data\n",
    "\n",
    "# Ground properties \n",
    "rho_ground = 2600    #kg/m^3         #density\n",
    "cp_ground  = 800     # J /(kg K)     #specific heat capacity\n",
    "k_ground   = 2.8     #W/(m K)        #conductivity    \n",
    "T_0   =  9          # °C             #undisturbed ground temperature \n",
    "\n",
    "# Borehole configuration (water&Ethanol 20% mixture)\n",
    "r_b = 0.06    #m             #borehole radius\n",
    "k_grout = 1.2 #W/(mK).       #Grout conductivity\n",
    "k_pipe = 0.33 #W/(mK).       #Pipe conductivity\n",
    "s = 0.065     #m             #distance between pipe center (assuming symmetric configuration)   \n",
    "r_i = 0.042/2  #m             #internal pipe diameter (assuming symmetric configuration)   \n",
    "r_o = 0.048/2   #m             #outer pipe diameter (assuming symmetric configuration)   \n",
    "\n",
    "# H =   150     #m             # This time I remove the borehole length as it will be a design parameter\n",
    "\n",
    "from CoolProp.CoolProp import PropsSI\n",
    "\n",
    "Tref = 0 + 273.15\n",
    "secondaryfluid = 'INCOMP::MEA-20%'\n",
    "\n",
    "T_freeze = PropsSI('T_freeze',secondaryfluid)\n",
    "cp_fluid  = PropsSI('C','T',Tref,'P',101325,secondaryfluid)  #specific heat \n",
    "rho_fluid = PropsSI('D','T',Tref,'P',101325,secondaryfluid)\n",
    "mu_fluid  = PropsSI('viscosity','T',Tref,'P',101325,secondaryfluid)\n",
    "k_fluid  = PropsSI('conductivity','T',Tref,'P',101325,secondaryfluid)\n",
    "\n",
    "# Design mass flow rate\n",
    "mb  = 0.5\t# kg/s"
   ]
  },
  {
   "cell_type": "code",
   "execution_count": 292,
   "metadata": {},
   "outputs": [
    {
     "name": "stdout",
     "output_type": "stream",
     "text": [
      "alpha_ground = 1.3461538461538462e-06\n"
     ]
    }
   ],
   "source": [
    "alpha_ground = k_ground/(rho_ground*cp_ground) # m^2/s  thermal diffusivity\n",
    "print(f'alpha_ground = {alpha_ground}')"
   ]
  },
  {
   "cell_type": "markdown",
   "metadata": {},
   "source": [
    "Import functions contained in file borehole_resistance.py and define the function compute_resistances according to the procedure explained in borehole_resistances.ipynb. "
   ]
  },
  {
   "cell_type": "code",
   "execution_count": 293,
   "metadata": {},
   "outputs": [],
   "source": [
    "from borehole_resistances import evaluate_nusselt, cross_section_Rb, cross_section_Ra\n",
    "\n",
    "import math\n",
    "\n",
    "def compute_resistances(mb, H):\n",
    "    w = mb / (rho_fluid * math.pi * r_i**2)\n",
    "    Re = rho_fluid * w * 2 * r_i / mu_fluid \n",
    "    Pr = mu_fluid * cp_fluid / (2 * r_i)\n",
    "\t\n",
    "    Nu = evaluate_nusselt(Re, Pr)\n",
    "    hi = Nu * k_fluid / (2 * r_i)\n",
    "\n",
    "    Rconv = 1 / (2 * math.pi * r_i * hi) \n",
    "    Rcond = 1 / (2 * math.pi * k_pipe) * math.log(r_o / r_i)\n",
    "    Rp = (Rcond + Rconv) / 2   \n",
    "\n",
    "    θ1 = s / (2 * r_b)\n",
    "    θ2 = r_b / r_o\n",
    "    θ3 = r_o / s\n",
    "\n",
    "    σ  = (k_grout - k_ground) / (k_grout + k_ground)\n",
    "    β  = 2 * math.pi * k_grout * Rp \n",
    "\n",
    "    Rb = cross_section_Rb(θ1, θ2, θ3, σ, β, k_grout)\n",
    "    Ra = cross_section_Ra(θ1, θ2, θ3, σ, β, k_grout)\n",
    "\n",
    "    η = H / (mb * cp_fluid * math.sqrt(Ra * Rb))\n",
    "    Rbstar =  Rb * η * (1 / math.tanh(η))\n",
    "    return Rbstar"
   ]
  },
  {
   "cell_type": "markdown",
   "metadata": {},
   "source": [
    "## Design procedure\n",
    "\n",
    "The goal of the design is to find a suitable configuration that allows to minimize the drilling cost while satisfying given constraints of minimum accepted temperature and installation footprint area. A common condition is to consider a minimum fluid temperature greater than 0 °C . For this exercise I will assume that my condition is that the value of average temperature $\\bar{T}_f(t)=(T_{f_{in}} (t)  + T_{f_{out}} (t))/2$  is greater than zero.\n",
    "\n",
    "We are given the thermal load characterized by 3 pulses. \n",
    "- The net power exchanged with the ground during a year  Q_average\n",
    "- The maximum monthly load Q_month\n",
    "- The maximum peak load Q_6hours\n",
    "\n",
    "\n",
    "We can compute the expected minimum borehole temperature after 20 years for a given borehole field configuration as the superposition of three terms relative to the response to these load’s components. \n",
    "\n",
    "$$T_b(t) -T_0= q_{\\textrm{20years}} \\, R_{\\textrm{20years}}+ q_{\\textrm{1month}} \\, R_{\\textrm{1month}} + q_{\\textrm{6hours}} \\, R_{\\textrm{6hours}} $$\n"
   ]
  },
  {
   "cell_type": "markdown",
   "metadata": {},
   "source": [
    "\n",
    "\n",
    "The expression above allows to compute the temperature of the borehole wall T_b (t) (also known as outer problem). This temperature difference is the sum of three load-resistance products. The loads in this formula are in W/m and represent the average power exchanged per meter of borehole during each interval of interest. These values can be obtained from the overall loads exchanged with the whole borehole field (Q_average, Q_month and Q_6hours) simply by scaling by the overall borehole length.\n",
    "\n",
    "$$q_{\\textrm{20years}}=Q_{\\textrm{average}}/(N_b \\, H) \\qquad\t  q_{\\textrm{1month}}=Q_{\\textrm{1month}}/(N_b \\, H) \\qquad\tq_{\\textrm{6hours}}=Q_{\\textrm{6hours}}/(N_b \\, H)$$\n"
   ]
  },
  {
   "cell_type": "markdown",
   "metadata": {},
   "source": [
    "Where N_b is the number of boreholes and H is the borehole length.\n",
    "In order to compute the value of the mean fluid temperature (T_f ) ̅(t), we then need to include the contribution of the effective borehole resistance (also known as internal problem). We then obtain the following formula.\n",
    "\n",
    "\n",
    "$$\\bar{T}_f(t) -T_0= q_{\\textrm{20years}} \\, R_{\\textrm{20years}}+ q_{\\textrm{1month}} \\, R_{\\textrm{1month}} + q_{\\textrm{6hours}} \\, R_{\\textrm{6hours}} + q_{\\textrm{6hours}} \\,R_b^{\\star} $$\n"
   ]
  },
  {
   "cell_type": "markdown",
   "metadata": {},
   "source": [
    "The resistances $R_{\\textrm{20years}}$, $R_{\\textrm{1month}}$, $R_{\\textrm{6hours}}$  can be calculated as follow.\n",
    "\n",
    "$\\large t_f=t_{20y}  +t_{1m}  +t_{6h}  \\qquad t_{f_2}= t_{20y}  +t_{1m} \\qquad t_{f_1}=t_{20y}$\n",
    "\n",
    "\n",
    "$\\large R_{\\textrm{20years}}=\\frac{(g(t_f )-g(t_f  -t_{f_1} ))}{2 \\pi k_g} = \\frac{((g(t_{20y}  +t_{1m}  +t_{6h} )-g(t_{1m}  +t_{6h} ) ))}{2\\pi k_g}$\n",
    "\n",
    "$\\large R_{\\textrm{1month}} = \\frac{((g(t_f  -t_{f_1} )-g(t_f  -t_{f_2} ) ))}{2 \\pi k_g} = \\frac{g(t_{1m}  +t_{6h} )-g(t_{6h} ) }{2 \\pi k_g}$\n",
    "\n",
    "$\\large R_{\\textrm{6hours}} =\\frac{g(t_f  -t_{f_2} )}{2 \\pi k_g} = \\frac{g(t_{6h} )}{2 \\pi k_g}$\n",
    "\n",
    "The evaluation of g(t) is performed using the software pygfunction. The code below is a modification of the sample code found at the github page of the software https://github.com/MassimoCimmino/pygfunction \n"
   ]
  },
  {
   "cell_type": "markdown",
   "metadata": {},
   "source": [
    "The design is an iterative process. To get an initial guess for a starting configuration I will consider a long term pulse with a power per meter of 15 W/m.  Given that the average long term power is 6000 W, the initial configuration will have a total length of 400 meters.\n",
    "In this case I will consider two boreholes of 200 meters at a distance B of 7 meters between each other."
   ]
  },
  {
   "cell_type": "code",
   "execution_count": 295,
   "metadata": {},
   "outputs": [],
   "source": [
    "# Evaluation of the relevant time for the evaluation of g-functions necessary for the ASHRAE method\n",
    "ty = 3600 * 8760 * 20\n",
    "tm = 3600 * 24 * 30\n",
    "t6h = 3600 * 6\n",
    "tf = ty + tm + t6h\n",
    "tf2 = ty + tm\n",
    "tf1 = ty"
   ]
  },
  {
   "cell_type": "code",
   "execution_count": 298,
   "metadata": {},
   "outputs": [
    {
     "name": "stdout",
     "output_type": "stream",
     "text": [
      "gfuncton at [tf-tf2, tf - tf1, tf][1.463701   3.83956905 8.01103043]\n"
     ]
    }
   ],
   "source": [
    "import pygfunction as gt\n",
    "import numpy as np\n",
    "\n",
    "B = 7\n",
    "H_1 = 200\n",
    "\n",
    "\n",
    "time = np.array([tf-tf2, tf - tf1, tf]) \n",
    "# time = np.array([t6h, tm+t6h, ty+tm+t6h]) \n",
    "boreField_1 = gt.boreholes.rectangle_field(N_1=1, N_2=2, B_1=B, B_2=B, H=H_1, D=6., r_b=r_b)\n",
    "gFunc_1 = gt.gfunction.gFunction(boreField_1, alpha=1.34615e-6, time=time)\n",
    "\n",
    "print(f'gfuncton at [tf-tf2, tf - tf1, tf]{gFunc_1.gFunc}')    # this line returns the values of the gfunction for t=time"
   ]
  },
  {
   "cell_type": "code",
   "execution_count": 301,
   "metadata": {},
   "outputs": [
    {
     "name": "stdout",
     "output_type": "stream",
     "text": [
      "R20years = 0.2371102495645354 (m K)/W\n",
      "Rmonth = 0.13504683681479138 (m K)/W\n",
      "R6hours = 0.08319830357678223 (m K)/W\n",
      "Rbstar = 0.07454645142511668 (m K)/W\n"
     ]
    }
   ],
   "source": [
    "gg_1 = gFunc_1.gFunc   # vector containing the values of the gfunction for the three pulses of interest.\n",
    "\n",
    "R20years_1 = 1/(2*math.pi*k_ground)* (gg_1[2] - gg_1[1])\n",
    "R1month_1  = 1/(2*math.pi*k_ground)* (gg_1[1] - gg_1[0])\n",
    "R6hours_1  = 1/(2*math.pi*k_ground)* gg_1[0]\n",
    "Rbstar_1   = compute_resistances(mb,H_1)\n",
    "\n",
    "print(f'R20years = {R20years_1} (m K)/W')\n",
    "print(f'Rmonth = {R1month_1} (m K)/W')\n",
    "print(f'R6hours = {R6hours_1} (m K)/W')\n",
    "print(f'Rbstar = {Rbstar_1} (m K)/W')\n"
   ]
  },
  {
   "cell_type": "code",
   "execution_count": 302,
   "metadata": {},
   "outputs": [
    {
     "name": "stdout",
     "output_type": "stream",
     "text": [
      "q20years = -15.0 W/m\n",
      "q1month = -40.0 W/m\n",
      "q6hours = -62.5 W/m\n"
     ]
    }
   ],
   "source": [
    "Nb_1 = len(boreField_1)\n",
    "\n",
    "q20years_1 = Q_average/(Nb_1*H_1)\n",
    "q1month_1  = Q_month/(Nb_1*H_1)\n",
    "q6hours_1  = Q_6hours/(Nb_1*H_1)\n",
    "\n",
    "print(f'q20years = {q20years_1} W/m')\n",
    "print(f'q1month = {q1month_1} W/m')\n",
    "print(f'q6hours = {q6hours_1} W/m')\n",
    "\n"
   ]
  },
  {
   "cell_type": "code",
   "execution_count": 303,
   "metadata": {},
   "outputs": [
    {
     "name": "stdout",
     "output_type": "stream",
     "text": [
      "DeltaT20years_1 = -3.556653743468031 °C\n",
      "DeltaT1month_1 = -5.401873472591655 °C\n",
      "DeltaT6hours_1 = -5.19989397354889 °C\n",
      "DeltaRbstar_1 = -4.38707016835243 °C\n",
      "Tfmean = -9.545491357961005 °C\n"
     ]
    }
   ],
   "source": [
    "DeltaT20years_1 = q20years_1 * R20years_1\n",
    "DeltaT1month_1  = q1month_1 * R1month_1\n",
    "DeltaT6hours_1  = q6hours_1 * R6hours_1\n",
    "DeltaRbstar_1   = q6hours_1 * Rbstar_1\n",
    "\n",
    "Tfmean = DeltaT20years_1 + DeltaT1month_1 + DeltaT6hours_1 + DeltaRbstar_1 + T_0\n",
    "\n",
    "print(f'DeltaT20years_1 = {DeltaT20years_1} °C')\n",
    "print(f'DeltaT1month_1 = {DeltaT1month_1} °C')\n",
    "print(f'DeltaT6hours_1 = {DeltaT6hours_1} °C')\n",
    "print(f'DeltaRbstar_1 = {DeltaRbstar_1} °C')\n",
    "print(f'Tfmean = {Tfmean} °C')"
   ]
  },
  {
   "cell_type": "markdown",
   "metadata": {},
   "source": [
    "The mean fluid temperature Tfmean obtained is less than 0°C. **We cannot accept this configuration!**"
   ]
  },
  {
   "cell_type": "code",
   "execution_count": 304,
   "metadata": {},
   "outputs": [
    {
     "name": "stdout",
     "output_type": "stream",
     "text": [
      "gfuncton at [tf][ 1.46383213  3.84013139 10.70975812]\n"
     ]
    }
   ],
   "source": [
    "B = 8\n",
    "H_2 = 245\n",
    "\n",
    "time = np.array([tf-tf2, tf - tf1, tf]) \n",
    "# time = np.array([t6h, tm+t6h, ty+tm+t6h]) \n",
    "boreField_2 = gt.boreholes.rectangle_field(N_1=2, N_2=2, B_1=B, B_2=B, H=H_2, D=6., r_b=r_b)\n",
    "gFunc_2 = gt.gfunction.gFunction(boreField_2, alpha=alpha_ground, time=time)\n",
    "\n",
    "print(f'gfuncton at [tf]{gFunc_2.gFunc}')    # this line returns the values of the gfunction for t=time"
   ]
  },
  {
   "cell_type": "code",
   "execution_count": 228,
   "metadata": {},
   "outputs": [
    {
     "name": "stdout",
     "output_type": "stream",
     "text": [
      "R20years = 0.3904768040623392 (m K)/W\n",
      "Rmonth = 0.1350713475536436 (m K)/W\n",
      "R6hours = 0.08320575712999254 (m K)/W\n",
      "Rbstar = 0.07938908518893456 (m K)/W\n"
     ]
    }
   ],
   "source": [
    "gg_2 = gFunc_2.gFunc   # vector containing the values of the gfunction for the three pulses of interest.\n",
    "\n",
    "R20years_2 = 1/(2*math.pi*k_ground)* (gg_2[2] - gg_2[1])\n",
    "R1month_2  = 1/(2*math.pi*k_ground)* (gg_2[1] - gg_2[0])\n",
    "R6hours_2  = 1/(2*math.pi*k_ground)* gg_2[0]\n",
    "Rbstar_2   = compute_resistances(mb,H_2)\n",
    "\n",
    "print(f'R20years = {R20years_2} (m K)/W')\n",
    "print(f'Rmonth = {R1month_2} (m K)/W')\n",
    "print(f'R6hours = {R6hours_2} (m K)/W')\n",
    "print(f'Rbstar = {Rbstar_2} (m K)/W')\n"
   ]
  },
  {
   "cell_type": "code",
   "execution_count": 236,
   "metadata": {},
   "outputs": [
    {
     "name": "stdout",
     "output_type": "stream",
     "text": [
      "Nb = 4 \n",
      "q20years = -6.122448979591836 W/m\n",
      "q1month = -16.3265306122449 W/m\n",
      "q6hours = -25.510204081632654 W/m\n"
     ]
    }
   ],
   "source": [
    "Nb_2 = len(boreField_2)\n",
    "\n",
    "q20years_2 = Q_average/(Nb_2*H_2)\n",
    "q1month_2  = Q_month/(Nb_2*H_2)\n",
    "q6hours_2  = Q_6hours/(Nb_2*H_2)\n",
    "\n",
    "print(f'Nb = {Nb_2} ')\n",
    "print(f'q20years = {q20years_2} W/m')\n",
    "print(f'q1month = {q1month_2} W/m')\n",
    "print(f'q6hours = {q6hours_2} W/m')"
   ]
  },
  {
   "cell_type": "code",
   "execution_count": 261,
   "metadata": {},
   "outputs": [
    {
     "name": "stdout",
     "output_type": "stream",
     "text": [
      "DeltaT20years_2 = -2.39067431058575 °C\n",
      "DeltaT1month_2 = -2.2052464906717324 °C\n",
      "DeltaT6hours_2 = -2.122595845152871 °C\n",
      "DeltaRbstar_2 = -2.025231765023841 °C\n",
      "Tfmean = 0.25625158856580477 °C\n"
     ]
    }
   ],
   "source": [
    "DeltaT20years_2 = q20years_2 * R20years_2\n",
    "DeltaT1month_2  = q1month_2 * R1month_2\n",
    "DeltaT6hours_2  = q6hours_2 * R6hours_2\n",
    "DeltaRbstar_2   = q6hours_2 * Rbstar_2\n",
    "\n",
    "Tfmean = DeltaT20years_2 + DeltaT1month_2 + DeltaT6hours_2 + DeltaRbstar_2 + T_0\n",
    "\n",
    "print(f'DeltaT20years_2 = {DeltaT20years_2} °C')\n",
    "print(f'DeltaT1month_2 = {DeltaT1month_2} °C')\n",
    "print(f'DeltaT6hours_2 = {DeltaT6hours_2} °C')\n",
    "print(f'DeltaRbstar_2 = {DeltaRbstar_2} °C')\n",
    "print(f'Tfmean = {Tfmean} °C')"
   ]
  },
  {
   "cell_type": "markdown",
   "metadata": {},
   "source": [
    "## Comparison of configurations response function\n",
    "\n",
    "In the code below we plot the g-functions for the two configurations over the full transient of the configuration. The plot shows the non-dimensional response temperature as a function of non-dimensional time $log(t/t_s)$ where $t_s= H^2 / 9 \\alpha_{g} $ is the time where the response approach steady state. "
   ]
  },
  {
   "cell_type": "code",
   "execution_count": 307,
   "metadata": {},
   "outputs": [],
   "source": [
    "from math import floor, log\n",
    "\n",
    "log_t_over_ts_fulltimerange = np.arange(-14, 3.25, 0.25)  # calculate the g-function during the whole transient.\n",
    "\n",
    "ts_1 = H_1**2 / (9 * alpha_ground)  # time when g-function approach steady state\n",
    "fulltimerange_1 = ts_1 * np.exp(log_t_over_ts_fulltimerange)\n",
    "gFunc_overfulltimerange_1 = gt.gfunction.gFunction(boreField_1, alpha=alpha_ground, time=fulltimerange_1)\n",
    "log_t_over_ts_ASHRAEmethod_1 = np.log(np.array(time) / ts_1)\n",
    "\n",
    "ts_2 = H_2**2 / (9 * alpha_ground)  # time when g-function approach steady state\n",
    "fulltimerange_2 = ts_2 * np.exp(log_t_over_ts_fulltimerange)\n",
    "gFunc_overfulltimerange_2 = gt.gfunction.gFunction(boreField_2, alpha=alpha_ground, time=fulltimerange_2)\n",
    "log_t_over_ts_ASHRAEmethod_2 = np.log(np.array(time) / ts_2)\n",
    "\n",
    "# print(f'gfunc over full time range {gFunc_overfulltimerange_1.gFunc}')\n",
    "# print(f'full time range (years) {fulltimerange/(8760*3600)}')\n",
    "# print(f'log_t_over_ts_ASHRAEmethod {log_t_over_ts_ASHRAEmethod_1}')"
   ]
  },
  {
   "cell_type": "code",
   "execution_count": 308,
   "metadata": {},
   "outputs": [
    {
     "data": {
      "image/png": "[encoded data removed]",
      "text/plain": [
       "<Figure size 640x480 with 1 Axes>"
      ]
     },
     "metadata": {},
     "output_type": "display_data"
    }
   ],
   "source": [
    "import numpy as np\n",
    "import matplotlib.pyplot as plt\n",
    "\n",
    "\n",
    "fig, (ax1) = plt.subplots(1, 1)\n",
    "\n",
    "ax1.plot(log_t_over_ts_fulltimerange, gFunc_overfulltimerange_1.gFunc, color = 'red', label = 'configuration 1')\n",
    "ax1.scatter(log_t_over_ts_ASHRAEmethod_1, gFunc_1.gFunc, color = 'red',  label = 'configuration 1 ASHRAE method')\n",
    "ax1.plot(log_t_over_ts_fulltimerange, gFunc_overfulltimerange_2.gFunc, color = 'blue', label = 'configuration 2')\n",
    "ax1.scatter(log_t_over_ts_ASHRAEmethod_2, gFunc_2.gFunc, color = 'blue',  label = 'configuration 2 ASHRAE method')\n",
    "\n",
    "ax1.set_xlabel('gfunction (-)')\n",
    "ax1.set_ylabel('log(t/ts)  (-)')\n",
    "\n",
    "plt.legend()\n",
    "\n",
    "# Show plot\n",
    "plt.show()\n"
   ]
  },
  {
   "cell_type": "code",
   "execution_count": null,
   "metadata": {},
   "outputs": [],
   "source": []
  },
  {
   "cell_type": "code",
   "execution_count": null,
   "metadata": {},
   "outputs": [],
   "source": []
  }
 ],
 "metadata": {
  "kernelspec": {
   "display_name": "pygfun",
   "language": "python",
   "name": "python3"
  },
  "language_info": {
   "codemirror_mode": {
    "name": "ipython",
    "version": 3
   },
   "file_extension": ".py",
   "mimetype": "text/x-python",
   "name": "python",
   "nbconvert_exporter": "python",
   "pygments_lexer": "ipython3",
   "version": "3.12.0"
  }
 },
 "nbformat": 4,
 "nbformat_minor": 2
}
